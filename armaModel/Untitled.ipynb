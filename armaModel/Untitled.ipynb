{
 "cells": [
  {
   "cell_type": "code",
   "execution_count": 2,
   "metadata": {},
   "outputs": [],
   "source": [
    "from scipy import stats\n",
    "import numpy as np\n",
    "from scipy.optimize import minimize\n",
    "import pylab as py"
   ]
  },
  {
   "cell_type": "code",
   "execution_count": 10,
   "metadata": {},
   "outputs": [],
   "source": [
    "def sigmoid(params):\n",
    "    k = params[0]\n",
    "    x0 = params[1]\n",
    "    sd = params[2]\n",
    "\n",
    "    yPred = 1 / (1 + np.exp(-k*(xdata-x0)))\n",
    "\n",
    "    # Calculate negative log likelihood\n",
    "    LL = -np.sum(stats.norm.logpdf(ydata, loc=yPred, scale=sd))\n",
    "\n",
    "    return(LL)"
   ]
  },
  {
   "cell_type": "code",
   "execution_count": 11,
   "metadata": {},
   "outputs": [
    {
     "name": "stdout",
     "output_type": "stream",
     "text": [
      "[0.86603581 3.47620973 0.05449688]\n"
     ]
    }
   ],
   "source": [
    "initParams = [1, 1, 1]\n",
    "\n",
    "results = minimize(sigmoid, initParams, method='Nelder-Mead')\n",
    "print(results.x)"
   ]
  },
  {
   "cell_type": "code",
   "execution_count": 5,
   "metadata": {},
   "outputs": [],
   "source": [
    "ydata = np.array([0.1, 0.15, 0.2, 0.3, 0.7, 0.8, 0.9, 0.9, 0.95])\n",
    "xdata = np.array(range(0, len(ydata), 1))"
   ]
  },
  {
   "cell_type": "code",
   "execution_count": 7,
   "metadata": {},
   "outputs": [
    {
     "data": {
      "image/png": "[encoded data removed]",
      "text/plain": [
       "<Figure size 432x288 with 1 Axes>"
      ]
     },
     "metadata": {
      "needs_background": "light"
     },
     "output_type": "display_data"
    }
   ],
   "source": [
    "estParms = results.x\n",
    "yOut = yPred = 1 / (1 + np.exp(-estParms[0]*(xdata-estParms[1])))\n",
    "\n",
    "py.clf()\n",
    "py.plot(xdata, ydata, 'go')\n",
    "py.plot(xdata, yOut)\n",
    "py.show()"
   ]
  },
  {
   "cell_type": "code",
   "execution_count": null,
   "metadata": {},
   "outputs": [],
   "source": []
  }
 ],
 "metadata": {
  "kernelspec": {
   "display_name": "Python 3",
   "language": "python",
   "name": "python3"
  },
  "language_info": {
   "codemirror_mode": {
    "name": "ipython",
    "version": 3
   },
   "file_extension": ".py",
   "mimetype": "text/x-python",
   "name": "python",
   "nbconvert_exporter": "python",
   "pygments_lexer": "ipython3",
   "version": "3.7.3"
  }
 },
 "nbformat": 4,
 "nbformat_minor": 2
}
