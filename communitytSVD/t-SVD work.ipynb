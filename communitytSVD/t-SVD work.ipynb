{
 "cells": [
  {
   "cell_type": "markdown",
   "metadata": {},
   "source": [
    "# t-SVD\n",
    "\n",
    "An effort to get the tensor SVD up and runnning"
   ]
  },
  {
   "cell_type": "code",
   "execution_count": 16,
   "metadata": {},
   "outputs": [],
   "source": [
    "import numpy as np\n",
    "import networkx as nx\n",
    "import matplotlib.pyplot as plt\n",
    "from random import random, shuffle\n",
    "import itertools\n",
    "from numpy.fft import fft, ifft\n",
    "from scipy.linalg import svd\n",
    "import matplotlib.pyplot as plt"
   ]
  },
  {
   "cell_type": "markdown",
   "metadata": {},
   "source": [
    "# Some Previous Work"
   ]
  },
  {
   "cell_type": "code",
   "execution_count": 27,
   "metadata": {},
   "outputs": [],
   "source": [
    "def printFrontalSlices(A):\n",
    "    n, m, p = A.shape\n",
    "    rep = \"\\n\"\n",
    "    for i in range(0,p):\n",
    "        #print(A[:,:,i])\n",
    "        vals = A[:,:,i].reshape(n,m)\n",
    "        rep += str(vals)\n",
    "        rep += \"\\n\"\n",
    "        \n",
    "    print(rep)"
   ]
  },
  {
   "cell_type": "code",
   "execution_count": 10,
   "metadata": {},
   "outputs": [],
   "source": [
    "# tensor transpose\n",
    "def t_tran(A):\n",
    "    ten_circ = t_circ(A)\n",
    "    #print(ten_circ.shape)\n",
    "    ten_circ = ten_circ.transpose()\n",
    "    #print(ten_circ.shape)\n",
    "    n2,n1,n3 = A.shape\n",
    "    #print(n1,n2,n3)\n",
    "    res = fold_up(ten_circ, n1, n2, n3)\n",
    "    return res "
   ]
  },
  {
   "cell_type": "markdown",
   "metadata": {},
   "source": [
    "# Test Case"
   ]
  },
  {
   "cell_type": "code",
   "execution_count": 19,
   "metadata": {},
   "outputs": [
    {
     "name": "stdout",
     "output_type": "stream",
     "text": [
      "\n",
      "[[1 2]\n",
      " [4 5]]\n",
      "[[2 3]\n",
      " [3 2]]\n",
      "\n"
     ]
    }
   ],
   "source": [
    "test_tensor = np.array([[[1, 2], [2, 3]], [[4, 3], [5, 2]]])\n",
    "printFrontalSlices(test_tensor)"
   ]
  },
  {
   "cell_type": "code",
   "execution_count": 9,
   "metadata": {},
   "outputs": [
    {
     "name": "stdout",
     "output_type": "stream",
     "text": [
      "\n",
      "[[-0.442305  0.029485]\n",
      " [ 0.029485  0.442305]]\n",
      "[[-0.059622 -0.894395]\n",
      " [-0.894395  0.059622]]\n",
      "\n"
     ]
    }
   ],
   "source": [
    "test_tensor_results = np.array([[[-0.442305, -0.059622], [0.029485, -0.894395]], [[0.029485, -0.894395], [0.442305, 0.059622]]])\n",
    "printFrontalSlices(test_tensor_results)"
   ]
  },
  {
   "cell_type": "code",
   "execution_count": 54,
   "metadata": {},
   "outputs": [
    {
     "name": "stdout",
     "output_type": "stream",
     "text": [
      "\n",
      "[[1 2]\n",
      " [4 5]]\n",
      "[[2 3]\n",
      " [3 2]]\n",
      "[[6 9]\n",
      " [9 0]]\n",
      "\n"
     ]
    }
   ],
   "source": [
    "# to get my head around some shaping stuff\n",
    "a = np.array([[[1, 2, 6], [2, 3, 9]], [[4, 3, 9], [5, 2, 0]]])\n",
    "printFrontalSlices(a)"
   ]
  },
  {
   "cell_type": "markdown",
   "metadata": {},
   "source": [
    "# Here We Go"
   ]
  },
  {
   "cell_type": "code",
   "execution_count": 59,
   "metadata": {},
   "outputs": [],
   "source": [
    "def t_svd(A, k = None):\n",
    "    n1, n2, n3 = A.shape\n",
    "    \n",
    "    #print(\"Shape of input tensor: {} {} {}\".format(n1, n2, n3))\n",
    "    \n",
    "    # transpose and swap if wrong shape\n",
    "    if(n2 > n1):\n",
    "        trans_flag = True\n",
    "        A = t_tran(A)\n",
    "        swap = n1\n",
    "        n1 = n2\n",
    "        n2 = swap\n",
    "        \n",
    "    A = fft(A, axis=2)\n",
    "    # Correct so far lol\n",
    "    \n",
    "    # flag to compute compact or full\n",
    "    fl = 1\n",
    "    if k is not None:\n",
    "        fl = 0\n",
    "    \n",
    "    K = min(n1, n2)\n",
    "    \n",
    "    if (fl == 0):\n",
    "        U = np.zeros((n1, K, n3))\n",
    "        S = np.zeros((K, K, n3))\n",
    "        V = np.zeros((K, n2, n3))\n",
    "    \n",
    "    #print(U.shape)\n",
    "    #print(S.shape)\n",
    "    #print(V.shape)\n",
    "    \n",
    "    for i in range(0, n3):\n",
    "        if (fl == 0):\n",
    "            U1, S1, V1 = svd(A[:,:,i], full_matrices = True)\n",
    "            U[:,:,i] = U1\n",
    "            S_mat = np.diag(S1.tolist())\n",
    "            S[:,:,i] = S_mat\n",
    "            V[:,:,i] = np.flip(V1)\n",
    "    \n",
    "    #printFrontalSlices(U)\n",
    "    #print(\"~~~~\")\n",
    "    #for i in range(0, len(S)):\n",
    "    #    print(S[:,:,i])\n",
    "    #print(\"~~~~\")\n",
    "    #printFrontalSlices(V)\n",
    "    #print(\"~~~~\")\n",
    "    \n",
    "    return np.real(ifft(U, axis=2)), np.real(ifft(S, axis=2)), np.real(ifft(V, axis=2))"
   ]
  },
  {
   "cell_type": "code",
   "execution_count": 61,
   "metadata": {},
   "outputs": [
    {
     "name": "stdout",
     "output_type": "stream",
     "text": [
      "\n",
      "[[-0.44230513  0.02948472]\n",
      " [ 0.02948472  0.44230513]]\n",
      "[[-0.05962169 -0.89439481]\n",
      " [-0.89439481  0.05962169]]\n",
      "\n",
      "\n",
      "[[7.4188942  0.        ]\n",
      " [0.         0.90566112]]\n",
      "[[4.00468064 0.        ]\n",
      " [0.         0.31987468]]\n",
      "\n",
      "\n",
      "[[-0.13955957 -0.08710068]\n",
      " [ 0.08710068 -0.13955957]]\n",
      "[[-0.522243    0.83677885]\n",
      " [-0.83677885 -0.522243  ]]\n",
      "\n"
     ]
    },
    {
     "name": "stderr",
     "output_type": "stream",
     "text": [
      "/home/tim/Documents/research/env/lib/python3.7/site-packages/ipykernel_launcher.py:36: ComplexWarning: Casting complex values to real discards the imaginary part\n",
      "/home/tim/Documents/research/env/lib/python3.7/site-packages/ipykernel_launcher.py:39: ComplexWarning: Casting complex values to real discards the imaginary part\n"
     ]
    }
   ],
   "source": [
    "# Test\n",
    "U,S,V = t_svd(test_tensor, 1)\n",
    "\n",
    "printFrontalSlices(U)\n",
    "printFrontalSlices(S)\n",
    "printFrontalSlices(V)"
   ]
  }
 ],
 "metadata": {
  "kernelspec": {
   "display_name": "Python 3",
   "language": "python",
   "name": "python3"
  },
  "language_info": {
   "codemirror_mode": {
    "name": "ipython",
    "version": 3
   },
   "file_extension": ".py",
   "mimetype": "text/x-python",
   "name": "python",
   "nbconvert_exporter": "python",
   "pygments_lexer": "ipython3",
   "version": "3.8.2"
  }
 },
 "nbformat": 4,
 "nbformat_minor": 2
}
